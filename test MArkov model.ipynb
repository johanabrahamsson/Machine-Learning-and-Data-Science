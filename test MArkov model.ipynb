{
 "cells": [
  {
   "cell_type": "code",
   "execution_count": 17,
   "metadata": {},
   "outputs": [
    {
     "name": "stderr",
     "output_type": "stream",
     "text": [
      "/Library/Frameworks/Python.framework/Versions/3.6/lib/python3.6/site-packages/ipykernel_launcher.py:8: DeprecationWarning: `imread` is deprecated!\n",
      "`imread` is deprecated in SciPy 1.0.0, and will be removed in 1.2.0.\n",
      "Use ``imageio.imread`` instead.\n",
      "  \n",
      "/Library/Frameworks/Python.framework/Versions/3.6/lib/python3.6/site-packages/ipykernel_launcher.py:9: DeprecationWarning: `imresize` is deprecated!\n",
      "`imresize` is deprecated in SciPy 1.0.0, and will be removed in 1.2.0.\n",
      "Use ``skimage.transform.resize`` instead.\n",
      "  if __name__ == '__main__':\n"
     ]
    },
    {
     "ename": "ValueError",
     "evalue": "either both or neither of x and y should be given",
     "output_type": "error",
     "traceback": [
      "\u001b[0;31m---------------------------------------------------------------------------\u001b[0m",
      "\u001b[0;31mValueError\u001b[0m                                Traceback (most recent call last)",
      "\u001b[0;32m<ipython-input-17-64b742e38fb2>\u001b[0m in \u001b[0;36m<module>\u001b[0;34m()\u001b[0m\n\u001b[1;32m     63\u001b[0m \u001b[0;32mif\u001b[0m \u001b[0m__name__\u001b[0m\u001b[0;34m==\u001b[0m\u001b[0;34m\"__main__\"\u001b[0m\u001b[0;34m:\u001b[0m\u001b[0;34m\u001b[0m\u001b[0m\n\u001b[1;32m     64\u001b[0m     \u001b[0mname\u001b[0m\u001b[0;34m=\u001b[0m\u001b[0;34m\"/Users/johanabrahamsson/Documents/Machine learning and data science/Python/lena_gray.jpg\"\u001b[0m\u001b[0;34m\u001b[0m\u001b[0m\n\u001b[0;32m---> 65\u001b[0;31m     \u001b[0mimage\u001b[0m\u001b[0;34m=\u001b[0m\u001b[0mread_image\u001b[0m\u001b[0;34m(\u001b[0m\u001b[0mname\u001b[0m\u001b[0;34m)\u001b[0m\u001b[0;34m\u001b[0m\u001b[0m\n\u001b[0m\u001b[1;32m     66\u001b[0m     \u001b[0mshow_image\u001b[0m\u001b[0;34m(\u001b[0m\u001b[0mimage\u001b[0m\u001b[0;34m)\u001b[0m\u001b[0;34m\u001b[0m\u001b[0m\n\u001b[1;32m     67\u001b[0m     \u001b[0mnoisy_image\u001b[0m\u001b[0;34m=\u001b[0m\u001b[0madd_noise\u001b[0m\u001b[0;34m(\u001b[0m\u001b[0mimage\u001b[0m\u001b[0;34m,\u001b[0m\u001b[0mnoise_percent\u001b[0m\u001b[0;34m=\u001b[0m\u001b[0;36m0.10\u001b[0m\u001b[0;34m)\u001b[0m\u001b[0;34m\u001b[0m\u001b[0m\n",
      "\u001b[0;32m<ipython-input-17-64b742e38fb2>\u001b[0m in \u001b[0;36mread_image\u001b[0;34m(name)\u001b[0m\n\u001b[1;32m      8\u001b[0m     \u001b[0mimage\u001b[0m \u001b[0;34m=\u001b[0m \u001b[0mscipy\u001b[0m\u001b[0;34m.\u001b[0m\u001b[0mmisc\u001b[0m\u001b[0;34m.\u001b[0m\u001b[0mimread\u001b[0m\u001b[0;34m(\u001b[0m\u001b[0mname\u001b[0m\u001b[0;34m,\u001b[0m\u001b[0mflatten\u001b[0m\u001b[0;34m=\u001b[0m\u001b[0;32mTrue\u001b[0m\u001b[0;34m)\u001b[0m\u001b[0;34m\u001b[0m\u001b[0m\n\u001b[1;32m      9\u001b[0m     \u001b[0mimage\u001b[0m \u001b[0;34m=\u001b[0m \u001b[0mscipy\u001b[0m\u001b[0;34m.\u001b[0m\u001b[0mmisc\u001b[0m\u001b[0;34m.\u001b[0m\u001b[0mimresize\u001b[0m\u001b[0;34m(\u001b[0m\u001b[0mimage\u001b[0m\u001b[0;34m,\u001b[0m\u001b[0;34m(\u001b[0m\u001b[0;36m512\u001b[0m\u001b[0;34m,\u001b[0m\u001b[0;36m512\u001b[0m\u001b[0;34m)\u001b[0m\u001b[0;34m,\u001b[0m\u001b[0;34m'bilinear'\u001b[0m\u001b[0;34m)\u001b[0m\u001b[0;34m\u001b[0m\u001b[0m\n\u001b[0;32m---> 10\u001b[0;31m     \u001b[0mimage\u001b[0m \u001b[0;34m=\u001b[0m \u001b[0mnp\u001b[0m\u001b[0;34m.\u001b[0m\u001b[0mwhere\u001b[0m\u001b[0;34m(\u001b[0m\u001b[0mimage\u001b[0m \u001b[0;34m>\u001b[0m \u001b[0;36m231\u001b[0m\u001b[0;34m,\u001b[0m \u001b[0;36m255\u001b[0m\u001b[0;34m)\u001b[0m\u001b[0;34m\u001b[0m\u001b[0m\n\u001b[0m\u001b[1;32m     11\u001b[0m     \u001b[0mimage\u001b[0m \u001b[0;34m=\u001b[0m \u001b[0mnp\u001b[0m\u001b[0;34m.\u001b[0m\u001b[0mwhere\u001b[0m\u001b[0;34m(\u001b[0m\u001b[0mimage\u001b[0m \u001b[0;34m>\u001b[0m \u001b[0;36m208\u001b[0m \u001b[0;34m&\u001b[0m \u001b[0mimage\u001b[0m \u001b[0;34m<\u001b[0m \u001b[0;36m230\u001b[0m\u001b[0;34m,\u001b[0m \u001b[0;36m209\u001b[0m\u001b[0;34m)\u001b[0m\u001b[0;34m\u001b[0m\u001b[0m\n\u001b[1;32m     12\u001b[0m     \u001b[0mimage\u001b[0m \u001b[0;34m=\u001b[0m \u001b[0mnp\u001b[0m\u001b[0;34m.\u001b[0m\u001b[0mwhere\u001b[0m\u001b[0;34m(\u001b[0m\u001b[0mimage\u001b[0m \u001b[0;34m>\u001b[0m \u001b[0;36m166\u001b[0m \u001b[0;34m&\u001b[0m \u001b[0mimage\u001b[0m \u001b[0;34m<\u001b[0m \u001b[0;36m209\u001b[0m\u001b[0;34m,\u001b[0m \u001b[0;36m167\u001b[0m\u001b[0;34m)\u001b[0m\u001b[0;34m\u001b[0m\u001b[0m\n",
      "\u001b[0;31mValueError\u001b[0m: either both or neither of x and y should be given"
     ]
    }
   ],
   "source": [
    "import numpy as np\n",
    "from matplotlib import pyplot as plt\n",
    "import matplotlib.cm as cm\n",
    "import scipy\n",
    "import scipy.misc\n",
    "\n",
    "def read_image(name):\n",
    "    image = scipy.misc.imread(name,flatten=True)\n",
    "    image = scipy.misc.imresize(image,(512,512),'bilinear')\n",
    "    image = np.where(image > 231, 255)\n",
    "    image = np.where(image > 208 & image < 230, 209)\n",
    "    image = np.where(image > 166 & image < 209, 167)\n",
    "    image = np.where(image > 86 & image < 167, 87)\n",
    "    image = np.where(image > 49 & image < 87, 50)\n",
    "    image = np.where(image >= 0 & image < 50, 0)\n",
    "    #image = np.where(image > 175, 1, -1)\n",
    "    return image\n",
    "    \n",
    "def show_image(image):\n",
    "    #image = np.where(image > 0, 255, 0)\n",
    "    plt.imshow(image,cmap=cm.gray)\n",
    "    plt.show() \n",
    "    \n",
    "def add_noise(image, noise_percent=0.10):\n",
    "    rows=image.shape[0]    \n",
    "    cols=image.shape[1]    \n",
    "    area=rows*cols\n",
    "    loc_flip=np.random.randint(0,area,int(area*noise_percent))\n",
    "    for ii in loc_flip:\n",
    "        locr=int(ii/cols)\n",
    "        locc=(ii%cols)\n",
    "        image[locr,locc]=-1*image[locr,locc]\n",
    "    return image\n",
    "\n",
    "def ICM(noisy_image):\n",
    "    h=-1\n",
    "    beta=1.0\n",
    "    eta=2.1\n",
    "    image=noisy_image\n",
    "    for row in range(image.shape[0]):\n",
    "        for col in range(image.shape[1]):\n",
    "            e_plus = compute_energy(noisy_image,image,row,col,1,h,beta,eta) \n",
    "            e_minus = compute_energy(noisy_image,image,row,col,-1,h,beta,eta)\n",
    "            if e_plus < e_minus:\n",
    "                image[row,col]=1\n",
    "            else:\n",
    "                image[row,col]=-1\n",
    "    return image\n",
    "        \n",
    "def compute_energy(noisy_image,image,row,col,label,h,beta,eta):\n",
    "    energy=h*label\n",
    "    if row > 0:\n",
    "        energy -= beta*label*image[row-1,col]\n",
    "    if col > 0:\n",
    "        energy -= beta*label*image[row,col-1]\n",
    "    if col < image.shape[1]-1:\n",
    "        energy -= beta*label*image[row,col+1]\n",
    "    if row < image.shape[0]-1:\n",
    "        energy -= beta*label*image[row+1,col]\n",
    "    energy -= eta*label*noisy_image[row,col]\n",
    "    return energy\n",
    "\n",
    "if __name__==\"__main__\":\n",
    "    name=\"/Users/johanabrahamsson/Documents/Machine learning and data science/Python/lena_gray.jpg\"\n",
    "    image=read_image(name)\n",
    "    show_image(image)\n",
    "    noisy_image=add_noise(image,noise_percent=0.10)\n",
    "    show_image(noisy_image)\n",
    "    denoised_image=ICM(noisy_image)\n",
    "    show_image(denoised_image)\n"
   ]
  },
  {
   "cell_type": "code",
   "execution_count": 24,
   "metadata": {},
   "outputs": [
    {
     "ename": "ValueError",
     "evalue": "The truth value of an array with more than one element is ambiguous. Use a.any() or a.all()",
     "output_type": "error",
     "traceback": [
      "\u001b[0;31m---------------------------------------------------------------------------\u001b[0m",
      "\u001b[0;31mValueError\u001b[0m                                Traceback (most recent call last)",
      "\u001b[0;32m<ipython-input-24-75b0fb608db6>\u001b[0m in \u001b[0;36m<module>\u001b[0;34m()\u001b[0m\n\u001b[0;32m----> 1\u001b[0;31m \u001b[0mnp\u001b[0m\u001b[0;34m.\u001b[0m\u001b[0mwhere\u001b[0m\u001b[0;34m(\u001b[0m\u001b[0mimage\u001b[0m \u001b[0;34m>\u001b[0m \u001b[0;36m208\u001b[0m \u001b[0;34m&\u001b[0m \u001b[0mimage\u001b[0m \u001b[0;34m<\u001b[0m \u001b[0;36m230\u001b[0m\u001b[0;34m)\u001b[0m\u001b[0;34m\u001b[0m\u001b[0m\n\u001b[0m",
      "\u001b[0;31mValueError\u001b[0m: The truth value of an array with more than one element is ambiguous. Use a.any() or a.all()"
     ]
    }
   ],
   "source": []
  },
  {
   "cell_type": "code",
   "execution_count": 20,
   "metadata": {},
   "outputs": [
    {
     "name": "stdout",
     "output_type": "stream",
     "text": [
      "[[-1 -1 -1 ... -1 -1 -1]\n",
      " [-1 -1 -1 ... -1 -1 -1]\n",
      " [-1 -1 -1 ... -1 -1  1]\n",
      " ...\n",
      " [-1 -1 -1 ... -1 -1 -1]\n",
      " [-1 -1 -1 ... -1 -1 -1]\n",
      " [-1 -1 -1 ... -1 -1 -1]]\n"
     ]
    }
   ],
   "source": [
    "print(image)"
   ]
  },
  {
   "cell_type": "code",
   "execution_count": 28,
   "metadata": {},
   "outputs": [
    {
     "name": "stdout",
     "output_type": "stream",
     "text": [
      "[[136 138 139 138 135 134 135 137 144 137]\n",
      " [137 138 139 138 136 134 135 137 144 137]\n",
      " [138 139 139 138 136 135 136 137 143 137]\n",
      " [138 138 138 138 137 136 136 136 142 136]\n",
      " [138 137 137 136 136 136 135 135 141 136]\n",
      " [137 136 135 135 136 135 134 133 138 135]\n",
      " [137 135 133 133 135 135 133 131 136 134]\n",
      " [136 134 132 132 134 134 132 130 135 133]\n",
      " [129 131 134 136 136 135 133 132 140 135]\n",
      " [130 131 133 134 134 132 129 128 135 131]]\n",
      "(array([  0,   0,   0, ..., 511, 511, 511]), array([  0,   1,   2, ..., 476, 477, 478]))\n"
     ]
    },
    {
     "name": "stderr",
     "output_type": "stream",
     "text": [
      "/Library/Frameworks/Python.framework/Versions/3.6/lib/python3.6/site-packages/ipykernel_launcher.py:1: DeprecationWarning: `imread` is deprecated!\n",
      "`imread` is deprecated in SciPy 1.0.0, and will be removed in 1.2.0.\n",
      "Use ``imageio.imread`` instead.\n",
      "  \"\"\"Entry point for launching an IPython kernel.\n",
      "/Library/Frameworks/Python.framework/Versions/3.6/lib/python3.6/site-packages/ipykernel_launcher.py:2: DeprecationWarning: `imresize` is deprecated!\n",
      "`imresize` is deprecated in SciPy 1.0.0, and will be removed in 1.2.0.\n",
      "Use ``skimage.transform.resize`` instead.\n",
      "  \n"
     ]
    }
   ],
   "source": [
    "image = scipy.misc.imread(name,flatten=True)\n",
    "image = scipy.misc.imresize(image,(512,512),'bilinear')\n",
    "print(image[:10,:10])\n",
    "print(np.where(image > 100))"
   ]
  },
  {
   "cell_type": "code",
   "execution_count": 22,
   "metadata": {},
   "outputs": [
    {
     "name": "stdout",
     "output_type": "stream",
     "text": [
      "[[135. 137. 138. ... 148. 131.  92.]\n",
      " [136. 137. 138. ... 149. 134.  96.]\n",
      " [137. 138. 138. ... 149. 135.  96.]\n",
      " ...\n",
      " [ 20.  21.  24. ...  71.  71.  70.]\n",
      " [ 21.  22.  26. ...  68.  70.  73.]\n",
      " [ 23.  24.  28. ...  67.  69.  75.]]\n"
     ]
    }
   ],
   "source": [
    "\n",
    "print(image)"
   ]
  },
  {
   "cell_type": "code",
   "execution_count": null,
   "metadata": {},
   "outputs": [],
   "source": []
  }
 ],
 "metadata": {
  "kernelspec": {
   "display_name": "Python 3",
   "language": "python",
   "name": "python3"
  },
  "language_info": {
   "codemirror_mode": {
    "name": "ipython",
    "version": 3
   },
   "file_extension": ".py",
   "mimetype": "text/x-python",
   "name": "python",
   "nbconvert_exporter": "python",
   "pygments_lexer": "ipython3",
   "version": "3.6.5"
  }
 },
 "nbformat": 4,
 "nbformat_minor": 2
}
