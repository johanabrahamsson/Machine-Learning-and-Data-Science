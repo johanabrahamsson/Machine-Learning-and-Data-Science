{
 "cells": [
  {
   "cell_type": "code",
   "execution_count": 1,
   "metadata": {},
   "outputs": [
    {
     "name": "stdout",
     "output_type": "stream",
     "text": [
      "(11, 528)\n"
     ]
    }
   ],
   "source": [
    "import numpy as np\n",
    "import matplotlib.pyplot as plt\n",
    "from sklearn.metrics import mean_squared_error, r2_score\n",
    "from numpy.linalg import inv\n",
    "from numpy.linalg import norm\n",
    "\n",
    "def read_data(datafile):\n",
    "    with open(datafile, 'r', encoding='utf-8-sig') as data_file:\n",
    "        data = []\n",
    "        for line in data_file:\n",
    "            lines = line.split()\n",
    "            lines = [float(i) for i in lines]\n",
    "            data.append(lines)\n",
    "        data = np.array(data)\n",
    "    return data\n",
    "\n",
    "def split_data(data):\n",
    "    train = data[0:np.min(np.where(data[:,0]>0)),:]\n",
    "    test = data[np.min(np.where(data[:,0]>0)):len(data),:]\n",
    "    num_classes_train = int(np.max(train[:,len(train.T)-1]))\n",
    "    num_classes_test = int(np.max(test[:,len(train.T)-1]))\n",
    "    t_train = list(train[:,len(train.T)-1].astype(int))\n",
    "    t_test = list(test[:,len(train.T)-1].astype(int))\n",
    "    train = train[:,3:len(train.T)-1]\n",
    "    test = test[:,3:len(train.T)-1]\n",
    "    return train.T, test.T, num_classes_train, num_classes_test, t_train, t_test\n",
    "\n",
    "def indices_to_one_hot(data, nb_classes):\n",
    "    return (np.eye(nb_classes+1)[np.array(data)]).T\n",
    "\n",
    "def compute_K_and_a(train_features, lambda1):\n",
    "    K = np.zeros((len(train_features.T),len(train_features.T)))\n",
    "    for i in np.arange(len(train_features.T)):\n",
    "        for j in np.arange(len(train_features.T)):\n",
    "            norma = norm(train_features[:,i]-train_features[:,j], ord=2)**2\n",
    "            val = np.exp(-norma/(2*sigma**2))\n",
    "            K[i,j] = val\n",
    "    a = np.matmul(inv(K + lambda1*np.eye(len(K), len(K))), train_T.T)\n",
    "    return K, a\n",
    "\n",
    "\n",
    "if __name__==\"__main__\":\n",
    "    data = read_data('vowel-context.txt')\n",
    "    train, test, num_classes_train, num_classes_test, t_train, t_test = split_data(data)\n",
    "    train_T = indices_to_one_hot(t_train, num_classes_train)\n",
    "    test_T = indices_to_one_hot(t_test, num_classes_test)\n",
    "    print(train_T.shape)\n",
    "    \n",
    "    \n"
   ]
  },
  {
   "cell_type": "code",
   "execution_count": null,
   "metadata": {},
   "outputs": [],
   "source": []
  }
 ],
 "metadata": {
  "kernelspec": {
   "display_name": "Python 3",
   "language": "python",
   "name": "python3"
  },
  "language_info": {
   "codemirror_mode": {
    "name": "ipython",
    "version": 3
   },
   "file_extension": ".py",
   "mimetype": "text/x-python",
   "name": "python",
   "nbconvert_exporter": "python",
   "pygments_lexer": "ipython3",
   "version": "3.6.5"
  }
 },
 "nbformat": 4,
 "nbformat_minor": 2
}
